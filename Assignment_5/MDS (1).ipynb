{
 "cells": [
  {
   "cell_type": "code",
   "execution_count": 19,
   "id": "4fe395cd",
   "metadata": {},
   "outputs": [],
   "source": [
    "import numpy as np\n",
    "import matplotlib.pyplot as plt\n",
    "import math\n",
    "import idx2numpy\n",
    "import pandas as pd\n",
    "import sklearn.metrics as skn"
   ]
  },
  {
   "cell_type": "code",
   "execution_count": 20,
   "id": "c304b9d9",
   "metadata": {},
   "outputs": [],
   "source": [
    "train_x = idx2numpy.convert_from_file('train-images.idx3-ubyte')\n",
    "train_y = idx2numpy.convert_from_file('train-labels.idx1-ubyte')\n",
    "test_x = idx2numpy.convert_from_file(\"t10k-images.idx3-ubyte\")\n",
    "test_y = idx2numpy.convert_from_file(\"t10k-labels.idx1-ubyte\")"
   ]
  },
  {
   "cell_type": "markdown",
   "id": "22a80b6b",
   "metadata": {},
   "source": [
    "## Flatening the Arrays"
   ]
  },
  {
   "cell_type": "code",
   "execution_count": 21,
   "id": "858232af",
   "metadata": {},
   "outputs": [],
   "source": [
    "X = np.array([i.flatten() for i in train_x])\n",
    "test = np.array([i.flatten() for i in test_x])"
   ]
  },
  {
   "cell_type": "code",
   "execution_count": 26,
   "id": "d21fc900",
   "metadata": {},
   "outputs": [
    {
     "data": {
      "text/plain": [
       "(100, 784)"
      ]
     },
     "execution_count": 26,
     "metadata": {},
     "output_type": "execute_result"
    }
   ],
   "source": [
    "X[:100].shape"
   ]
  },
  {
   "cell_type": "code",
   "execution_count": 27,
   "id": "72bb4bf5",
   "metadata": {},
   "outputs": [],
   "source": [
    "dist_matrix = skn.pairwise_distances(X[:100],X[:100],metric = \"euclidean\")"
   ]
  },
  {
   "cell_type": "code",
   "execution_count": 32,
   "id": "25769817",
   "metadata": {},
   "outputs": [],
   "source": [
    "def mds():\n",
    "  D = np.loadtxt('distances.txt', delimiter=',')\n",
    "  print(D)\n",
    "  C = np.genfromtxt('cities.txt', dtype = 'str', delimiter=\"\\n\")\n",
    "  n = len(D)\n",
    "  H = np.eye(n) - np.ones((n,n))/n\n",
    "  \n",
    "  B = -0.5 * H.dot(D**2).dot(H)\n",
    "  \n",
    "  evals, evecs = np.linalg.eigh(B)\n",
    "  idx = np.argsort(evals)[::-1]\n",
    "  evals = evals[idx]\n",
    "  evecs = evecs[:,idx] # col i represents eigenvector i\n",
    "\n",
    "  #w, = np.where(evals > 0)\n",
    "  w = [0,1]\n",
    "  L = np.diag(np.sqrt(evals[w]))\n",
    "  U = evecs[:,w]\n",
    "  Y = U.dot(L)\n",
    "  return Y, C"
   ]
  },
  {
   "cell_type": "code",
   "execution_count": 33,
   "id": "5a83cdba",
   "metadata": {},
   "outputs": [
    {
     "name": "stdout",
     "output_type": "stream",
     "text": [
      "[[   0.  936.  587. 1210.  701.  606.  746. 1887. 2135. 2178.]\n",
      " [ 936.    0.  850. 1765. 1603. 1258.  190. 2578. 2693. 2485.]\n",
      " [ 587.  850.    0.  917.  939. 1189.  712. 1730. 1854. 1733.]\n",
      " [1210. 1765.  917.    0.  878. 1724. 1627.  833.  948. 1020.]\n",
      " [ 701. 1603.  939.  878.    0.  967. 1417. 1301. 1642. 1889.]\n",
      " [ 606. 1258. 1189. 1724.  967.    0. 1092. 2267. 2590. 2731.]\n",
      " [ 746.  190.  712. 1627. 1417. 1092.    0. 2427. 2566. 2402.]\n",
      " [1887. 2578. 1730.  833. 1301. 2267. 2427.    0.  458. 1064.]\n",
      " [2135. 2693. 1854.  948. 1642. 2590. 2566.  458.    0.  679.]\n",
      " [2178. 2485. 1733. 1020. 1889. 2731. 2402. 1064.  679.    0.]]\n",
      "[[ -680.22534794   216.28672377]\n",
      " [-1173.44903431  -581.59822413]\n",
      " [ -377.78373289  -287.88391949]\n",
      " [  503.20700218   -34.37222909]\n",
      " [  -95.06977925   606.40590091]\n",
      " [-1063.73664248   683.12599782]\n",
      " [-1077.65384581  -416.64033258]\n",
      " [ 1197.97177839   429.78109748]\n",
      " [ 1447.9689219     37.35444593]\n",
      " [ 1318.7706802   -652.45946061]]\n"
     ]
    },
    {
     "data": {
      "image/png": "[encoded data removed]",
      "text/plain": [
       "<Figure size 432x288 with 1 Axes>"
      ]
     },
     "metadata": {
      "needs_background": "light"
     },
     "output_type": "display_data"
    },
    {
     "data": {
      "image/png": "[encoded data removed]",
      "text/plain": [
       "<Figure size 432x288 with 1 Axes>"
      ]
     },
     "metadata": {
      "needs_background": "light"
     },
     "output_type": "display_data"
    }
   ],
   "source": [
    "def plot(Y, C, d):\n",
    "  print(Y)\n",
    "  fig = plt.figure(0)\n",
    "  ax = fig.add_subplot(111)\n",
    "  ax.scatter(Y[:,0], Y[:,1])\n",
    "  for i in range(len(C)):\n",
    "    ax.annotate(C[i], (Y[i][0], Y[i][1]+20), fontsize = 10)\n",
    "  #plt.savefig('hw7-4.pdf')\n",
    "  fig1 = plt.figure(1)\n",
    "  theta = d / 180.0 * math.pi\n",
    "  R = np.array([[math.cos(theta), -math.sin(theta)],[math.sin(theta), math.cos(theta)]])\n",
    "  Y_t = R.dot(Y.T).T\n",
    "  ax1 = fig1.add_subplot(111)\n",
    "  ax1.scatter(Y_t[:,0], Y_t[:,1])\n",
    "  for i in range(len(C)):\n",
    "    ax1.annotate(C[i], (Y_t[i][0], Y_t[i][1]+20), fontsize = 10)\n",
    "  #plt.savefig('hw7-4_turn.pdf')\n",
    "\n",
    "def main():\n",
    "  Y, C = mds()\n",
    "  plot(Y, C, 175)\n",
    "\n",
    "if __name__ == '__main__':\n",
    "  main()"
   ]
  },
  {
   "cell_type": "code",
   "execution_count": 35,
   "id": "37aa13b9",
   "metadata": {},
   "outputs": [],
   "source": [
    "def mds():\n",
    "  D = dist_matrix\n",
    "  C = [\"0\",\"1\",\"2\",\"3\",\"4\",\"5\",\"6\",\"7\",\"8\",\"9\"]\n",
    "  n = len(D)\n",
    "  H = np.eye(n) - np.ones((n,n))/n\n",
    "  \n",
    "  B = -0.5 * H.dot(D**2).dot(H)\n",
    "  \n",
    "  evals, evecs = np.linalg.eigh(B)\n",
    "  idx = np.argsort(evals)[::-1]\n",
    "  evals = evals[idx]\n",
    "  evecs = evecs[:,idx] # col i represents eigenvector i\n",
    "\n",
    "  #w, = np.where(evals > 0)\n",
    "  w = [0,1]\n",
    "  L = np.diag(np.sqrt(evals[w]))\n",
    "  U = evecs[:,w]\n",
    "  Y = U.dot(L)\n",
    "  return Y, C"
   ]
  },
  {
   "cell_type": "code",
   "execution_count": 37,
   "id": "f4885e66",
   "metadata": {},
   "outputs": [
    {
     "name": "stdout",
     "output_type": "stream",
     "text": [
      "[[ -317.5100841    406.93277095]\n",
      " [-1101.23738935  -436.79683389]\n",
      " [  229.30540046   -88.96009153]\n",
      " [  814.09226221   318.06522476]\n",
      " [  429.77615278  -494.28681559]\n",
      " [  -99.93753972  -506.0879992 ]\n",
      " [  599.93024523   467.99401361]\n",
      " [ -789.75560098   464.850612  ]\n",
      " [  773.26782693   292.68880774]\n",
      " [  471.93508997  -706.51845935]\n",
      " [ -266.23239891   798.5403072 ]\n",
      " [  772.97461623    37.60962201]\n",
      " [ -532.42867824  1335.52295705]\n",
      " [ -100.99405162  -910.18814818]\n",
      " [  781.63872615   336.96036745]\n",
      " [  348.15731594  -850.79614828]\n",
      " [  -58.18393966    42.41660465]\n",
      " [  266.5017763   -225.13512515]\n",
      " [  163.38241426   -34.02697646]\n",
      " [  720.13814071  -222.06822984]\n",
      " [  -75.69344054  -212.28727478]\n",
      " [-1053.12418691  -242.63486835]\n",
      " [  651.30114206  -438.25655974]\n",
      " [  834.2011137    277.42339317]\n",
      " [  229.84520098   -74.12706736]\n",
      " [ -919.18888884   681.54576462]\n",
      " [  668.24144565    74.94796199]\n",
      " [-1141.26283079  1041.0389502 ]\n",
      " [ -502.30391578   370.69674041]\n",
      " [  733.38071776  -356.28402446]\n",
      " [  304.93977146   597.64770141]\n",
      " [  -29.87723813     9.69914856]\n",
      " [  134.39072022  -328.94935601]\n",
      " [  597.16235398  -316.18819632]\n",
      " [-1030.69114491  -286.36858934]\n",
      " [  690.51449388    86.21473077]\n",
      " [ -171.86403534  -135.21586751]\n",
      " [-1221.11101643  -661.86709835]\n",
      " [  366.33954771     4.11967322]\n",
      " [ -290.6872567   -746.95230838]\n",
      " [  776.61583753   382.13642102]\n",
      " [  -62.09829251   163.30149535]\n",
      " [  721.13340227    35.64380008]\n",
      " [  570.1431014    -54.38927478]\n",
      " [  353.93056943   850.00339728]\n",
      " [  234.89659015  -452.18950828]\n",
      " [  126.87604828   371.93448307]\n",
      " [  277.93473546  -234.80549869]\n",
      " [  189.35165407   632.62612319]\n",
      " [ -704.83469452   854.28464789]\n",
      " [ -161.22886688   767.78252722]\n",
      " [-1643.32244542    50.82387778]\n",
      " [ -330.20179804   -96.67263099]\n",
      " [  790.04889723    18.37643467]\n",
      " [  305.93878136  -167.78508914]\n",
      " [   77.0078518   -245.11785968]\n",
      " [-1154.73214075   -48.78182966]\n",
      " [  561.55077502  -572.93674121]\n",
      " [ -147.72123147   148.2358997 ]\n",
      " [  731.338306     442.51817569]\n",
      " [   54.07915131  -191.37951663]\n",
      " [  691.02523234  -174.67973125]\n",
      " [ -519.4567178   -172.30922616]\n",
      " [-1453.19333131  -132.9574801 ]\n",
      " [ -324.93918714  -467.25035578]\n",
      " [  711.15959505    86.67677948]\n",
      " [ -380.38823988  -605.16746911]\n",
      " [  859.65449447   385.7780618 ]\n",
      " [  -31.5243185    693.34439871]\n",
      " [-1614.54629172   -45.52846553]\n",
      " [  137.09331471   476.98227797]\n",
      " [  508.85053862  -545.69876364]\n",
      " [  861.9165493    269.21654085]\n",
      " [   11.15260338  -708.52237476]\n",
      " [ -269.08035795  1040.99367217]\n",
      " [-1269.76651657   -12.98195531]\n",
      " [  135.75641328  1076.49585927]\n",
      " [  726.13426731   504.44422384]\n",
      " [  833.42122653   161.14841637]\n",
      " [  543.17423089  -523.88625435]\n",
      " [ -560.38094705   189.46618878]\n",
      " [-1488.51561835  -247.16712707]\n",
      " [-1042.12906778   156.5310066 ]\n",
      " [ -157.51427581  -877.03965472]\n",
      " [  215.12690237   133.71145716]\n",
      " [  -78.45502474   291.23608739]\n",
      " [  244.32513472   516.6929543 ]\n",
      " [  210.3674268   -929.8876233 ]\n",
      " [-1010.58496      418.4164076 ]\n",
      " [  249.34075829 -1044.24811385]\n",
      " [ -419.03911637  -924.74171116]\n",
      " [  215.16859396  -606.44586154]\n",
      " [  341.6557117   -151.08025353]\n",
      " [ -288.62876169  -716.27644608]\n",
      " [  113.77495646  -140.47657989]\n",
      " [-1542.0696323   -515.10422209]\n",
      " [  628.01544434  -253.82028513]\n",
      " [  -19.07697115   -76.72424069]\n",
      " [ -122.72612156  1183.43004004]\n",
      " [  908.86299383   262.90117516]]\n"
     ]
    },
    {
     "data": {
      "image/png": "[encoded data removed]",
      "text/plain": [
       "<Figure size 432x288 with 1 Axes>"
      ]
     },
     "metadata": {
      "needs_background": "light"
     },
     "output_type": "display_data"
    },
    {
     "data": {
      "image/png": "[encoded data removed]",
      "text/plain": [
       "<Figure size 432x288 with 1 Axes>"
      ]
     },
     "metadata": {
      "needs_background": "light"
     },
     "output_type": "display_data"
    }
   ],
   "source": [
    "def plot(Y, C, d):\n",
    "  print(Y)\n",
    "  fig = plt.figure(0)\n",
    "  ax = fig.add_subplot(111)\n",
    "  ax.scatter(Y[:,0], Y[:,1])\n",
    "  for i in range(len(C)):\n",
    "    ax.annotate(C[i], (Y[i][0], Y[i][1]+20), fontsize = 10)\n",
    "  #plt.savefig('hw7-4.pdf')\n",
    "  fig1 = plt.figure(1)\n",
    "  theta = d / 180.0 * math.pi\n",
    "  R = np.array([[math.cos(theta), -math.sin(theta)],[math.sin(theta), math.cos(theta)]])\n",
    "  Y_t = R.dot(Y.T).T\n",
    "  ax1 = fig1.add_subplot(111)\n",
    "  ax1.scatter(Y_t[:,0], Y_t[:,1])\n",
    "  for i in range(len(C)):\n",
    "    ax1.annotate(C[i], (Y_t[i][0], Y_t[i][1]+20), fontsize = 10)\n",
    "  #plt.savefig('hw7-4_turn.pdf')\n",
    "\n",
    "def main():\n",
    "  Y, C = mds()\n",
    "  plot(Y, C, 175)\n",
    "\n",
    "if __name__ == '__main__':\n",
    "  main()"
   ]
  },
  {
   "cell_type": "code",
   "execution_count": null,
   "id": "37ff2a2e",
   "metadata": {},
   "outputs": [],
   "source": []
  }
 ],
 "metadata": {
  "kernelspec": {
   "display_name": "Python 3 (ipykernel)",
   "language": "python",
   "name": "python3"
  },
  "language_info": {
   "codemirror_mode": {
    "name": "ipython",
    "version": 3
   },
   "file_extension": ".py",
   "mimetype": "text/x-python",
   "name": "python",
   "nbconvert_exporter": "python",
   "pygments_lexer": "ipython3",
   "version": "3.9.7"
  }
 },
 "nbformat": 4,
 "nbformat_minor": 5
}
