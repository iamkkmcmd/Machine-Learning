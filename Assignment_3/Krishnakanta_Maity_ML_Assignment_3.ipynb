{
 "cells": [
  {
   "cell_type": "markdown",
   "id": "e379462e",
   "metadata": {},
   "source": [
    "### Load the libraries"
   ]
  },
  {
   "cell_type": "code",
   "execution_count": 1,
   "id": "e8dd5c30",
   "metadata": {},
   "outputs": [],
   "source": [
    "import numpy as np\n",
    "import pandas as pd\n",
    "import matplotlib.pyplot as plt"
   ]
  },
  {
   "cell_type": "markdown",
   "id": "42663f59",
   "metadata": {},
   "source": [
    "### Load the data"
   ]
  },
  {
   "cell_type": "code",
   "execution_count": 2,
   "id": "d9358801",
   "metadata": {},
   "outputs": [
    {
     "data": {
      "text/html": [
       "<div>\n",
       "<style scoped>\n",
       "    .dataframe tbody tr th:only-of-type {\n",
       "        vertical-align: middle;\n",
       "    }\n",
       "\n",
       "    .dataframe tbody tr th {\n",
       "        vertical-align: top;\n",
       "    }\n",
       "\n",
       "    .dataframe thead th {\n",
       "        text-align: right;\n",
       "    }\n",
       "</style>\n",
       "<table border=\"1\" class=\"dataframe\">\n",
       "  <thead>\n",
       "    <tr style=\"text-align: right;\">\n",
       "      <th></th>\n",
       "      <th>x</th>\n",
       "      <th>y</th>\n",
       "      <th>labels</th>\n",
       "    </tr>\n",
       "  </thead>\n",
       "  <tbody>\n",
       "    <tr>\n",
       "      <th>0</th>\n",
       "      <td>7.076613</td>\n",
       "      <td>17.467532</td>\n",
       "      <td>1.0</td>\n",
       "    </tr>\n",
       "    <tr>\n",
       "      <th>1</th>\n",
       "      <td>11.733871</td>\n",
       "      <td>18.035714</td>\n",
       "      <td>2.0</td>\n",
       "    </tr>\n",
       "    <tr>\n",
       "      <th>2</th>\n",
       "      <td>14.153226</td>\n",
       "      <td>14.870130</td>\n",
       "      <td>4.0</td>\n",
       "    </tr>\n",
       "    <tr>\n",
       "      <th>3</th>\n",
       "      <td>16.693548</td>\n",
       "      <td>17.954545</td>\n",
       "      <td>5.0</td>\n",
       "    </tr>\n",
       "    <tr>\n",
       "      <th>4</th>\n",
       "      <td>21.532258</td>\n",
       "      <td>21.120130</td>\n",
       "      <td>5.0</td>\n",
       "    </tr>\n",
       "  </tbody>\n",
       "</table>\n",
       "</div>"
      ],
      "text/plain": [
       "           x          y  labels\n",
       "0   7.076613  17.467532     1.0\n",
       "1  11.733871  18.035714     2.0\n",
       "2  14.153226  14.870130     4.0\n",
       "3  16.693548  17.954545     5.0\n",
       "4  21.532258  21.120130     5.0"
      ]
     },
     "execution_count": 2,
     "metadata": {},
     "output_type": "execute_result"
    }
   ],
   "source": [
    "df = pd.read_csv('./data/annotated_points_np_150.csv')\n",
    "df.head()"
   ]
  },
  {
   "cell_type": "code",
   "execution_count": 3,
   "id": "49610604",
   "metadata": {},
   "outputs": [
    {
     "data": {
      "text/plain": [
       "(150, 3)"
      ]
     },
     "execution_count": 3,
     "metadata": {},
     "output_type": "execute_result"
    }
   ],
   "source": [
    "df.shape"
   ]
  },
  {
   "cell_type": "markdown",
   "id": "5445fca9",
   "metadata": {},
   "source": [
    "### Plot the data"
   ]
  },
  {
   "cell_type": "code",
   "execution_count": 4,
   "id": "5e5bebe5",
   "metadata": {},
   "outputs": [
    {
     "data": {
      "text/plain": [
       "Text(0.5, 1.0, 'Scatter plot of x and y')"
      ]
     },
     "execution_count": 4,
     "metadata": {},
     "output_type": "execute_result"
    },
    {
     "data": {
      "image/png": "[encoded data removed]",
      "text/plain": [
       "<Figure size 432x288 with 1 Axes>"
      ]
     },
     "metadata": {
      "needs_background": "light"
     },
     "output_type": "display_data"
    }
   ],
   "source": [
    "plt.scatter(df.x, df.y, c = 'green', marker = '+')\n",
    "plt.xlabel('x')\n",
    "plt.ylabel('y')\n",
    "plt.title('Scatter plot of x and y')"
   ]
  },
  {
   "cell_type": "markdown",
   "id": "0b0afa0c",
   "metadata": {},
   "source": [
    "- Estimate of coefficients: $w = (X^TX)^{-1}X^Ty$"
   ]
  },
  {
   "cell_type": "markdown",
   "id": "575586e3",
   "metadata": {},
   "source": [
    "### Define General Function"
   ]
  },
  {
   "cell_type": "code",
   "execution_count": 5,
   "id": "7b03c1fd",
   "metadata": {},
   "outputs": [],
   "source": [
    "def LLRSLASSO(df, n, lamda):\n",
    "    # Data Matrix\n",
    "    dm = np.ones(df.shape[0])\n",
    "    for i in range(1,n+1):\n",
    "        dm = np.vstack((dm,df.x**i))\n",
    "    X = dm.T\n",
    "    # Response Variable\n",
    "    y = np.array(df.y).reshape(df.shape[0],1)\n",
    "    # Estimated Weights\n",
    "    w = np.linalg.inv(X.T@X + lamda*np.eye(n+1))@X.T@y\n",
    "    y_hat = X@w\n",
    "    mse = np.mean((y-y_hat)**2)\n",
    "    return w,y_hat,mse"
   ]
  },
  {
   "cell_type": "code",
   "execution_count": 6,
   "id": "02692a4f",
   "metadata": {},
   "outputs": [],
   "source": [
    "def plotting(df, w, n):\n",
    "    x = np.linspace(np.min(df.x),np.max(df.x),df.shape[0])\n",
    "    dm = np.ones(df.shape[0])\n",
    "    for i in range(1,n+1):\n",
    "        dm = np.vstack((dm,x**i))\n",
    "    X = dm.T\n",
    "    y = X@w\n",
    "    plt.scatter(df.x, df.y, c = 'green', marker = '+')\n",
    "    plt.xlabel('x')\n",
    "    plt.ylabel('y')\n",
    "    plt.title('Scatter plot of x and y with fitted line')\n",
    "    plt.plot(x, y, '-r')"
   ]
  },
  {
   "cell_type": "markdown",
   "id": "ad40a066",
   "metadata": {},
   "source": [
    "### Try for some value of $\\lambda$ and $n$"
   ]
  },
  {
   "cell_type": "code",
   "execution_count": 7,
   "id": "69c1baa0",
   "metadata": {},
   "outputs": [],
   "source": [
    "w,y_hat,mse = LLRSLASSO(df, 10, 0.05)"
   ]
  },
  {
   "cell_type": "code",
   "execution_count": 8,
   "id": "cfc7c2ba",
   "metadata": {
    "scrolled": false
   },
   "outputs": [
    {
     "data": {
      "text/html": [
       "<div>\n",
       "<style scoped>\n",
       "    .dataframe tbody tr th:only-of-type {\n",
       "        vertical-align: middle;\n",
       "    }\n",
       "\n",
       "    .dataframe tbody tr th {\n",
       "        vertical-align: top;\n",
       "    }\n",
       "\n",
       "    .dataframe thead th {\n",
       "        text-align: right;\n",
       "    }\n",
       "</style>\n",
       "<table border=\"1\" class=\"dataframe\">\n",
       "  <thead>\n",
       "    <tr style=\"text-align: right;\">\n",
       "      <th></th>\n",
       "      <th>n</th>\n",
       "      <th>MSE</th>\n",
       "    </tr>\n",
       "  </thead>\n",
       "  <tbody>\n",
       "    <tr>\n",
       "      <th>0</th>\n",
       "      <td>1</td>\n",
       "      <td>27.344096</td>\n",
       "    </tr>\n",
       "    <tr>\n",
       "      <th>1</th>\n",
       "      <td>2</td>\n",
       "      <td>27.336374</td>\n",
       "    </tr>\n",
       "    <tr>\n",
       "      <th>2</th>\n",
       "      <td>3</td>\n",
       "      <td>27.124994</td>\n",
       "    </tr>\n",
       "    <tr>\n",
       "      <th>3</th>\n",
       "      <td>4</td>\n",
       "      <td>27.091517</td>\n",
       "    </tr>\n",
       "    <tr>\n",
       "      <th>4</th>\n",
       "      <td>5</td>\n",
       "      <td>27.073637</td>\n",
       "    </tr>\n",
       "    <tr>\n",
       "      <th>5</th>\n",
       "      <td>6</td>\n",
       "      <td>27.073366</td>\n",
       "    </tr>\n",
       "    <tr>\n",
       "      <th>6</th>\n",
       "      <td>7</td>\n",
       "      <td>27.042255</td>\n",
       "    </tr>\n",
       "    <tr>\n",
       "      <th>7</th>\n",
       "      <td>8</td>\n",
       "      <td>26.876482</td>\n",
       "    </tr>\n",
       "    <tr>\n",
       "      <th>8</th>\n",
       "      <td>9</td>\n",
       "      <td>26.842980</td>\n",
       "    </tr>\n",
       "    <tr>\n",
       "      <th>9</th>\n",
       "      <td>10</td>\n",
       "      <td>26.878948</td>\n",
       "    </tr>\n",
       "  </tbody>\n",
       "</table>\n",
       "</div>"
      ],
      "text/plain": [
       "    n        MSE\n",
       "0   1  27.344096\n",
       "1   2  27.336374\n",
       "2   3  27.124994\n",
       "3   4  27.091517\n",
       "4   5  27.073637\n",
       "5   6  27.073366\n",
       "6   7  27.042255\n",
       "7   8  26.876482\n",
       "8   9  26.842980\n",
       "9  10  26.878948"
      ]
     },
     "execution_count": 8,
     "metadata": {},
     "output_type": "execute_result"
    }
   ],
   "source": [
    "mses = np.array([LLRSLASSO(df, i, 0)[2] for i in range(1,11)])\n",
    "pd.DataFrame({'n':range(1,11), 'MSE':mses})"
   ]
  },
  {
   "cell_type": "markdown",
   "id": "94093cd4",
   "metadata": {},
   "source": [
    "### Plot for different degree of polynomial with OLS ($\\lambda = 0$)"
   ]
  },
  {
   "cell_type": "code",
   "execution_count": 9,
   "id": "23dd5f0a",
   "metadata": {
    "scrolled": true
   },
   "outputs": [
    {
     "data": {
      "image/png": "[encoded data removed]",
      "text/plain": [
       "<Figure size 432x288 with 1 Axes>"
      ]
     },
     "metadata": {
      "needs_background": "light"
     },
     "output_type": "display_data"
    }
   ],
   "source": [
    "for i in range(1,11):\n",
    "    plotting(df,LLRSLASSO(df, i, 0)[0],i)"
   ]
  },
  {
   "cell_type": "markdown",
   "id": "43760b78",
   "metadata": {},
   "source": [
    "### Comparison"
   ]
  },
  {
   "cell_type": "code",
   "execution_count": 10,
   "id": "66e7cc9c",
   "metadata": {
    "scrolled": false
   },
   "outputs": [
    {
     "data": {
      "image/png": "[encoded data removed]",
      "text/plain": [
       "<Figure size 432x288 with 1 Axes>"
      ]
     },
     "metadata": {
      "needs_background": "light"
     },
     "output_type": "display_data"
    }
   ],
   "source": [
    "plt.plot(range(1,11), mses, color = 'maroon')\n",
    "plt.xlabel('Degree of the polynomial')\n",
    "plt.ylabel('Mean Square Error (MSE)')\n",
    "plt.title('Comparison')\n",
    "plt.show()"
   ]
  },
  {
   "cell_type": "markdown",
   "id": "9197e31f",
   "metadata": {},
   "source": [
    "#### From the above plot, it is clear that 9 degree polynomial is best fitted."
   ]
  },
  {
   "cell_type": "code",
   "execution_count": 11,
   "id": "cd85c838",
   "metadata": {},
   "outputs": [
    {
     "data": {
      "text/html": [
       "<div>\n",
       "<style scoped>\n",
       "    .dataframe tbody tr th:only-of-type {\n",
       "        vertical-align: middle;\n",
       "    }\n",
       "\n",
       "    .dataframe tbody tr th {\n",
       "        vertical-align: top;\n",
       "    }\n",
       "\n",
       "    .dataframe thead th {\n",
       "        text-align: right;\n",
       "    }\n",
       "</style>\n",
       "<table border=\"1\" class=\"dataframe\">\n",
       "  <thead>\n",
       "    <tr style=\"text-align: right;\">\n",
       "      <th></th>\n",
       "      <th>lambda=0</th>\n",
       "      <th>lambda=0.1</th>\n",
       "      <th>lambda=0.2</th>\n",
       "      <th>lambda=0.3</th>\n",
       "      <th>lambda=0.4</th>\n",
       "      <th>lambda=0.5</th>\n",
       "      <th>lambda=0.6</th>\n",
       "      <th>lambda=0.7</th>\n",
       "      <th>lambda=0.8</th>\n",
       "      <th>lambda=0.9</th>\n",
       "      <th>lambda=1</th>\n",
       "    </tr>\n",
       "  </thead>\n",
       "  <tbody>\n",
       "    <tr>\n",
       "      <th>0</th>\n",
       "      <td>27.344096</td>\n",
       "      <td>27.344139</td>\n",
       "      <td>27.344268</td>\n",
       "      <td>27.344481</td>\n",
       "      <td>27.344777</td>\n",
       "      <td>27.345152</td>\n",
       "      <td>27.345607</td>\n",
       "      <td>27.346138</td>\n",
       "      <td>27.346745</td>\n",
       "      <td>27.347426</td>\n",
       "      <td>27.348179</td>\n",
       "    </tr>\n",
       "    <tr>\n",
       "      <th>1</th>\n",
       "      <td>27.336374</td>\n",
       "      <td>27.336486</td>\n",
       "      <td>27.336811</td>\n",
       "      <td>27.337337</td>\n",
       "      <td>27.338051</td>\n",
       "      <td>27.338940</td>\n",
       "      <td>27.339993</td>\n",
       "      <td>27.341201</td>\n",
       "      <td>27.342553</td>\n",
       "      <td>27.344040</td>\n",
       "      <td>27.345653</td>\n",
       "    </tr>\n",
       "    <tr>\n",
       "      <th>2</th>\n",
       "      <td>27.124994</td>\n",
       "      <td>27.125036</td>\n",
       "      <td>27.125154</td>\n",
       "      <td>27.125336</td>\n",
       "      <td>27.125572</td>\n",
       "      <td>27.125855</td>\n",
       "      <td>27.126178</td>\n",
       "      <td>27.126533</td>\n",
       "      <td>27.126917</td>\n",
       "      <td>27.127325</td>\n",
       "      <td>27.127752</td>\n",
       "    </tr>\n",
       "    <tr>\n",
       "      <th>3</th>\n",
       "      <td>27.091517</td>\n",
       "      <td>27.091520</td>\n",
       "      <td>27.091528</td>\n",
       "      <td>27.091541</td>\n",
       "      <td>27.091559</td>\n",
       "      <td>27.091583</td>\n",
       "      <td>27.091611</td>\n",
       "      <td>27.091644</td>\n",
       "      <td>27.091682</td>\n",
       "      <td>27.091725</td>\n",
       "      <td>27.091772</td>\n",
       "    </tr>\n",
       "    <tr>\n",
       "      <th>4</th>\n",
       "      <td>27.073637</td>\n",
       "      <td>27.073804</td>\n",
       "      <td>27.074185</td>\n",
       "      <td>27.074670</td>\n",
       "      <td>27.075202</td>\n",
       "      <td>27.075752</td>\n",
       "      <td>27.076305</td>\n",
       "      <td>27.076853</td>\n",
       "      <td>27.077392</td>\n",
       "      <td>27.077923</td>\n",
       "      <td>27.078445</td>\n",
       "    </tr>\n",
       "    <tr>\n",
       "      <th>5</th>\n",
       "      <td>27.073366</td>\n",
       "      <td>27.073664</td>\n",
       "      <td>27.074192</td>\n",
       "      <td>27.074744</td>\n",
       "      <td>27.075274</td>\n",
       "      <td>27.075775</td>\n",
       "      <td>27.076252</td>\n",
       "      <td>27.076710</td>\n",
       "      <td>27.077157</td>\n",
       "      <td>27.077596</td>\n",
       "      <td>27.078033</td>\n",
       "    </tr>\n",
       "    <tr>\n",
       "      <th>6</th>\n",
       "      <td>27.042255</td>\n",
       "      <td>27.042971</td>\n",
       "      <td>27.043791</td>\n",
       "      <td>27.044425</td>\n",
       "      <td>27.044923</td>\n",
       "      <td>27.045332</td>\n",
       "      <td>27.045683</td>\n",
       "      <td>27.045997</td>\n",
       "      <td>27.046285</td>\n",
       "      <td>27.046557</td>\n",
       "      <td>27.046816</td>\n",
       "    </tr>\n",
       "    <tr>\n",
       "      <th>7</th>\n",
       "      <td>26.876482</td>\n",
       "      <td>26.898905</td>\n",
       "      <td>26.913031</td>\n",
       "      <td>26.921137</td>\n",
       "      <td>26.926558</td>\n",
       "      <td>26.930609</td>\n",
       "      <td>26.933882</td>\n",
       "      <td>26.936676</td>\n",
       "      <td>26.939161</td>\n",
       "      <td>26.941430</td>\n",
       "      <td>26.943542</td>\n",
       "    </tr>\n",
       "    <tr>\n",
       "      <th>8</th>\n",
       "      <td>26.842980</td>\n",
       "      <td>26.843397</td>\n",
       "      <td>26.843610</td>\n",
       "      <td>26.843643</td>\n",
       "      <td>26.843657</td>\n",
       "      <td>26.843756</td>\n",
       "      <td>26.843771</td>\n",
       "      <td>26.843851</td>\n",
       "      <td>26.843914</td>\n",
       "      <td>26.843940</td>\n",
       "      <td>26.844018</td>\n",
       "    </tr>\n",
       "    <tr>\n",
       "      <th>9</th>\n",
       "      <td>26.878948</td>\n",
       "      <td>26.841534</td>\n",
       "      <td>26.843532</td>\n",
       "      <td>26.842460</td>\n",
       "      <td>26.841252</td>\n",
       "      <td>26.843324</td>\n",
       "      <td>26.841218</td>\n",
       "      <td>26.841354</td>\n",
       "      <td>26.852753</td>\n",
       "      <td>26.843612</td>\n",
       "      <td>26.841626</td>\n",
       "    </tr>\n",
       "  </tbody>\n",
       "</table>\n",
       "</div>"
      ],
      "text/plain": [
       "    lambda=0  lambda=0.1  lambda=0.2  lambda=0.3  lambda=0.4  lambda=0.5  \\\n",
       "0  27.344096   27.344139   27.344268   27.344481   27.344777   27.345152   \n",
       "1  27.336374   27.336486   27.336811   27.337337   27.338051   27.338940   \n",
       "2  27.124994   27.125036   27.125154   27.125336   27.125572   27.125855   \n",
       "3  27.091517   27.091520   27.091528   27.091541   27.091559   27.091583   \n",
       "4  27.073637   27.073804   27.074185   27.074670   27.075202   27.075752   \n",
       "5  27.073366   27.073664   27.074192   27.074744   27.075274   27.075775   \n",
       "6  27.042255   27.042971   27.043791   27.044425   27.044923   27.045332   \n",
       "7  26.876482   26.898905   26.913031   26.921137   26.926558   26.930609   \n",
       "8  26.842980   26.843397   26.843610   26.843643   26.843657   26.843756   \n",
       "9  26.878948   26.841534   26.843532   26.842460   26.841252   26.843324   \n",
       "\n",
       "   lambda=0.6  lambda=0.7  lambda=0.8  lambda=0.9   lambda=1  \n",
       "0   27.345607   27.346138   27.346745   27.347426  27.348179  \n",
       "1   27.339993   27.341201   27.342553   27.344040  27.345653  \n",
       "2   27.126178   27.126533   27.126917   27.127325  27.127752  \n",
       "3   27.091611   27.091644   27.091682   27.091725  27.091772  \n",
       "4   27.076305   27.076853   27.077392   27.077923  27.078445  \n",
       "5   27.076252   27.076710   27.077157   27.077596  27.078033  \n",
       "6   27.045683   27.045997   27.046285   27.046557  27.046816  \n",
       "7   26.933882   26.936676   26.939161   26.941430  26.943542  \n",
       "8   26.843771   26.843851   26.843914   26.843940  26.844018  \n",
       "9   26.841218   26.841354   26.852753   26.843612  26.841626  "
      ]
     },
     "execution_count": 11,
     "metadata": {},
     "output_type": "execute_result"
    }
   ],
   "source": [
    "result = [[LLRSLASSO(df, i, j)[2] for j in np.linspace(0,1,11)]  for i in range(1,11)]\n",
    "result = pd.DataFrame(result, columns = ['lambda='+str(i) for i in [0,0.1,0.2,0.3,0.4,0.5,0.6,0.7,0.8,0.9,1]])\n",
    "result"
   ]
  },
  {
   "cell_type": "code",
   "execution_count": 12,
   "id": "1a03f4aa",
   "metadata": {
    "scrolled": true
   },
   "outputs": [
    {
     "data": {
      "image/png": "[encoded data removed]",
      "text/plain": [
       "<Figure size 432x288 with 1 Axes>"
      ]
     },
     "metadata": {
      "needs_background": "light"
     },
     "output_type": "display_data"
    }
   ],
   "source": [
    "for i in range(10):\n",
    "    plt.plot(result.iloc[0])\n",
    "plt.xticks(['lambda='+str(i) for i in [0,0.1,0.2,0.3,0.4,0.5,0.6,0.7,0.8,0.9,1]], rotation='vertical')\n",
    "plt.show()"
   ]
  },
  {
   "cell_type": "markdown",
   "id": "ac524815",
   "metadata": {},
   "source": [
    "##### MSEs are almost same for all $\\lambda$ for highly linearly related data."
   ]
  }
 ],
 "metadata": {
  "kernelspec": {
   "display_name": "Python 3 (ipykernel)",
   "language": "python",
   "name": "python3"
  },
  "language_info": {
   "codemirror_mode": {
    "name": "ipython",
    "version": 3
   },
   "file_extension": ".py",
   "mimetype": "text/x-python",
   "name": "python",
   "nbconvert_exporter": "python",
   "pygments_lexer": "ipython3",
   "version": "3.9.7"
  }
 },
 "nbformat": 4,
 "nbformat_minor": 5
}
